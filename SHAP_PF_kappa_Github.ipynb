{
  "nbformat": 4,
  "nbformat_minor": 0,
  "metadata": {
    "colab": {
      "name": "SHAP_PF_kappa_Github.ipynb",
      "provenance": [],
      "collapsed_sections": [],
      "authorship_tag": "ABX9TyOxivVGaxFUffWqiiRdl66+",
      "include_colab_link": true
    },
    "kernelspec": {
      "name": "python3",
      "display_name": "Python 3"
    },
    "language_info": {
      "name": "python"
    }
  },
  "cells": [
    {
      "cell_type": "markdown",
      "metadata": {
        "id": "view-in-github",
        "colab_type": "text"
      },
      "source": [
        "<a href=\"https://colab.research.google.com/github/Bjoyita/ThermoelectricDataAnalysis/blob/main/SHAP_PF_kappa_Github.ipynb\" target=\"_parent\"><img src=\"https://colab.research.google.com/assets/colab-badge.svg\" alt=\"Open In Colab\"/></a>"
      ]
    },
    {
      "cell_type": "code",
      "metadata": {
        "id": "ffbRRBRzaE6s"
      },
      "source": [
        "#Importing Libraries\n",
        "import numpy as np\n",
        "import pandas as pd\n",
        "from matplotlib import pyplot as plt\n",
        "from matplotlib.pyplot import figure\n",
        "import seaborn as sns\n",
        "\n",
        "#Installing Materials Libraries\n",
        "pip install pymatgen\n",
        "pip install matminer\n",
        "pip install shap\n",
        "\n",
        "#Loading Data\n",
        "ds_RT = pd.read_csv('Pf_kappa_RT_1.csv')\n",
        "ds_RT\n",
        "\n",
        "from pymatgen.core.composition import Composition\n",
        "from matminer.featurizers.composition import ElementFraction\n",
        "ef = ElementFraction()\n",
        "element_fraction_labels = ef.feature_labels()\n",
        "print(element_fraction_labels)\n",
        
        "#Preprocessing of Data\n",
        "ds_RT['Formula']\n",
        "Comp = []\n",
        "for value in ds_RT['Formula']:\n",
        "  Comp.append(Composition(value))\n",
        "Comp\n",
        "\n",
        "ds_RT['Composition'] = Comp\n",
        "ds_RT\n",
        "\n",
        "ds_RT = ef.featurize_dataframe(ds_RT,'Composition')\n",
        "ds_RT\n",
        "\n",
        "ds_RT = ds_RT.loc[:, (ds_RT != 0).any(axis=0)]\n",
        "ds_RT\n",
        "\n",
        "ds_RT = ds_RT.drop(['Composition'], axis = 1)\n",
        "ds_RT\n",
        "\n",
        "ds_RT.columns\n",
        "\n",
        "ds_RT = ds_RT.reindex(columns = ['Formula','B', 'O', 'Na', 'Mg', 'Al', 'Si', 'P', 'S', 'K', 'Ca',\n",
        "       'Ti', 'Cr', 'Mn', 'Fe', 'Co', 'Ni', 'Cu', 'Zn', 'Ga', 'Ge', 'Se', 'Sr',\n",
        "       'Y', 'Zr', 'Nb', 'Mo', 'Ag', 'In', 'Sn', 'Sb', 'Te', 'I', 'Cs', 'Ba',\n",
        "       'La', 'Ce', 'Nd', 'Sm', 'Gd', 'Tb', 'Dy', 'Ho', 'Yb', 'Hf', 'W', 'Au',\n",
        "       'Tl', 'Pb', 'Bi', 'kappa', 'PF'])\n",
        "\n",
        "ds_RT\n",
        
        "#Model fitting: Random Forest algorithm\n",
        "#Correlation of elements with PF\n",
        "X = ds_RT.iloc[:, 1: 50]\n",
        "y_pf = ds_RT.iloc[:, -1]\n",
        "\n",
        "from sklearn.model_selection import train_test_split\n",
        "X_train_p, X_test_p, y_train_p, y_test_p = train_test_split(X, y_pf, test_size = 0.2, random_state = 0)\n",
        "from sklearn.ensemble import RandomForestRegressor\n",
        "rf = RandomForestRegressor(n_estimators = 50, random_state = 0)\n",
        "rf.fit(X_train_p, y_train_p)\n",
        "\n",
        "# SHAP Values for PF\n",
        "import shap\n",
        "explainer = shap.TreeExplainer(rf)\n",
        "shap_values_pf = explainer.shap_values(X_train_p)\n",
        "print(shap_values_pf)\n",
        "shap.summary_plot(shap_values_pf, X_train_p, plot_type=\"bar\") #This gives the absolute SHAP values\n",
        "shap.summary_plot(shap_values_pf, X_train_p)"
      ],
      "execution_count": null,
      "outputs": []
    }
  ]
}
